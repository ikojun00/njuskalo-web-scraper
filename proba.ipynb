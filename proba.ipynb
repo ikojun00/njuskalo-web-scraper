{
 "cells": [
  {
   "cell_type": "markdown",
   "id": "7b3ad054-2d60-4821-ae8c-d91ed097a00d",
   "metadata": {},
   "source": [
    "# Učitavanje potrebnih biblioteka i podataka"
   ]
  },
  {
   "cell_type": "code",
   "execution_count": 14,
   "id": "86bdba85-864b-4fe3-80c5-365fd9c118fa",
   "metadata": {},
   "outputs": [],
   "source": [
    "import pandas as pd\n",
    "import seaborn as sns\n",
    "import matplotlib.pyplot as plt\n",
    "import json\n",
    "import plotly.express as px\n",
    "import plotly.io as pio\n",
    "pio.renderers.default = 'iframe'"
   ]
  },
  {
   "cell_type": "code",
   "execution_count": 15,
   "id": "29146ce6-1028-4ca8-883c-26ade067029c",
   "metadata": {},
   "outputs": [],
   "source": [
    "df = pd.read_csv('info.csv')"
   ]
  },
  {
   "cell_type": "markdown",
   "id": "4345af9c-5299-4211-995c-16b46a85c739",
   "metadata": {},
   "source": [
    "# Statistički pregled stanova u Hrvatskoj"
   ]
  },
  {
   "cell_type": "markdown",
   "id": "c66a2c75-90e8-4f65-8f25-24c75738273f",
   "metadata": {},
   "source": [
    "## 1. Izračunavanje medijana cijene po kvadratnom metru u svakoj županiji"
   ]
  },
  {
   "cell_type": "code",
   "execution_count": 16,
   "id": "ce94ad1f",
   "metadata": {},
   "outputs": [
    {
     "ename": "SyntaxError",
     "evalue": "invalid syntax (2315919110.py, line 2)",
     "output_type": "error",
     "traceback": [
      "\u001b[1;36m  Cell \u001b[1;32mIn[16], line 2\u001b[1;36m\u001b[0m\n\u001b[1;33m    Prvo smo stvorili novi stupac \"Price per sqm\" koji predstavlja cijenu po kvadratnom metru dobivenu dijeljenjem cijene stana s\u001b[0m\n\u001b[1;37m         ^\u001b[0m\n\u001b[1;31mSyntaxError\u001b[0m\u001b[1;31m:\u001b[0m invalid syntax\n"
     ]
    }
   ],
   "source": [
    "### 1. 1. Trakasti dijagram\n",
    "Prvo smo stvorili novi stupac \"Price per sqm\" koji predstavlja cijenu po kvadratnom metru dobivenu dijeljenjem cijene stana s \n",
    "njegovom površinom. Zatim smo izdvojili županije koje imaju barem 100 oglasa za stanove kako bismo osigurali reprezentativnost \n",
    "podataka. Rezultate smo prikazali u obliku trakastog dijagrama, gdje je na osi X prikazan medijan cijene po kvadratnom metru, a \n",
    "na osi Y su nazivi županija. Grafički prikaz omogućuje usporedbu medijan cijene po kvadratnom metru među različitim županijama."
   ]
  },
  {
   "cell_type": "code",
   "execution_count": null,
   "id": "df51705d-73a6-4fc5-887b-255d4779b41c",
   "metadata": {},
   "outputs": [],
   "source": [
    "df['Price per sqm'] = df['Price'] / df['Living area']\n",
    "county_counts = df['County'].value_counts()\n",
    "\n",
    "valid_counties = county_counts[county_counts >= 100].index\n",
    "df_filtered = df[df['County'].isin(valid_counties)]\n",
    "\n",
    "median_price_per_sqm_county = df_filtered.groupby('County')['Price per sqm'].median().sort_values(ascending=False)\n",
    "\n",
    "plt.figure(figsize=(14, 8))\n",
    "sns.barplot(x=median_price_per_sqm_county.values, y=median_price_per_sqm_county.index, palette='viridis')\n",
    "for index, value in enumerate(median_price_per_sqm_county.values):\n",
    "    plt.text(value, index, f'{value:.2f}', ha='left', va='center', color='black', fontsize=10)\n",
    "plt.xlabel('Medijan cijene po kvadratnom metru')\n",
    "plt.ylabel('Županija')\n",
    "plt.title('Medijan cijene po kvadratnom metru u svakoj županiji')\n",
    "plt.tight_layout()\n",
    "plt.show()"
   ]
  },
  {
   "cell_type": "markdown",
   "id": "8e91bad1",
   "metadata": {},
   "source": [
    "### 1. 2. Heatmap\n",
    "Iste rezultate smo prikazali u obliku heatmapa. Grafički prikaz pruža uvid u regionalne varijacije u cijenama nekretnina."
   ]
  },
  {
   "cell_type": "code",
   "execution_count": null,
   "id": "4eec7500",
   "metadata": {},
   "outputs": [],
   "source": [
    "pd.options.mode.chained_assignment = None\n",
    "\n",
    "croatia_states = json.load(open(\"hr.json\", \"r\", encoding='utf-8'))\n",
    "df_filtered = df[df['County'] != \"Požeško-slavonska\"]\n",
    "state_id_map = {}\n",
    "for feature in croatia_states[\"features\"]:\n",
    "    state_id_map[feature[\"properties\"][\"name\"]] = feature[\"id\"]\n",
    "df_filtered.loc[:, 'Id'] = df_filtered['County'].map(state_id_map)\n",
    "\n",
    "median_price_per_sqm_county = df_filtered.groupby('Id')['Price per sqm'].median().reset_index()\n",
    "fig = px.choropleth(median_price_per_sqm_county, \n",
    "                    locations='Id', \n",
    "                    geojson=croatia_states, \n",
    "                    color='Price per sqm',\n",
    "                    hover_name='Id',\n",
    "                    color_continuous_scale=\"purples\",\n",
    "                    range_color=(0, 5000))\n",
    "fig.update_geos(fitbounds=\"locations\", visible=False)\n",
    "fig.show()\n",
    "\n",
    "pd.options.mode.chained_assignment = 'warn'"
   ]
  },
  {
   "cell_type": "markdown",
   "id": "ed7faaba-d5c8-4628-82a7-9519e95492df",
   "metadata": {},
   "source": [
    "## 2. Izračunavanje medijana cijene po kvadratnom metru u 10 najskupljih gradova\n",
    "\n",
    "Filtrirali smo podatke kako bismo uključili samo gradove koji imaju barem 100 oglasa. Zatim smo grupirali podatke po gradovima koristeći medijan cijenu za sortiranje od najskupljeg do 10. najmanjeg skupog grada. Rezultate smo prikazali u obliku trakastog dijagrama, gdje su na osi X prikazane vrijednosti medijana cijene po kvadratnom metru, a na osi Y su nazivi gradova."
   ]
  },
  {
   "cell_type": "code",
   "execution_count": null,
   "id": "f691597a-0a9b-4ba3-a760-12161216abd3",
   "metadata": {},
   "outputs": [],
   "source": [
    "city_counts = df['City'].value_counts()\n",
    "valid_cities = city_counts[city_counts >= 100].index\n",
    "df_filtered = df[df['City'].isin(valid_cities)]\n",
    "\n",
    "median_price_per_sqm_city = df_filtered.groupby('City')['Price per sqm'].median().sort_values(ascending=False).head(10)\n",
    "\n",
    "plt.figure(figsize=(14, 8))\n",
    "sns.barplot(x=median_price_per_sqm_city.values, y=median_price_per_sqm_city.index, palette='viridis')\n",
    "for index, value in enumerate(median_price_per_sqm_city.values):\n",
    "    plt.text(value, index, f'{value:.2f}', ha='left', va='center', color='black', fontsize=10)\n",
    "plt.xlabel('Medijan cijene po kvadratnom metru')\n",
    "plt.ylabel('Grad')\n",
    "plt.title('Medijan cijene po kvadratnom metru 10 najskupljih gradova')\n",
    "plt.tight_layout()\n",
    "plt.show()"
   ]
  },
  {
   "cell_type": "markdown",
   "id": "2e7e824b-efb0-4b40-b3ed-1db00f3f2ec7",
   "metadata": {},
   "source": [
    "## 3. Izračunavanje medijana cijene po kvadratnom metru u 10 najpopularnijih gradova\n",
    "\n",
    "Prvo smo identificirali deset gradova s najvećim brojem stanova na Njuškalu. Zatim smo filtrirali podatke kako bismo zadržali samo stanove koji pripadaju tim gradovima. Nakon toga, grupirali smo podatke po gradovima koristeći medijan cijenu za sortiranje od najskupljeg do najmanje skupog. Rezultate smo prikazali koristeći trakasti dijagram koji prikazuje medijan cijene po kvadratnom metru na osi X i nazive gradova na osi Y. Grad Zagreb je županija te nije uvršten među 10 najpopularnijih gradova. Donji Grad i Novi Zagreb-Zapad su unutar Zagreba te su u Njuškalu uvršteni kao gradovi unutar Grada Zagreba."
   ]
  },
  {
   "cell_type": "code",
   "execution_count": null,
   "id": "fc8c971b-9160-43a5-a00e-62871a14d54d",
   "metadata": {},
   "outputs": [],
   "source": [
    "city_counts = df['City'].value_counts().sort_values(ascending=False).head(10)\n",
    "df_filtered = df[df['City'].isin(city_counts.index)]\n",
    "\n",
    "median_price_per_sqm_city = df_filtered.groupby('City')['Price per sqm'].median().sort_values(ascending=False)\n",
    "\n",
    "plt.figure(figsize=(14, 8))\n",
    "sns.barplot(x=median_price_per_sqm_city.values, y=median_price_per_sqm_city.index, palette='viridis')\n",
    "for index, value in enumerate(median_price_per_sqm_city.values):\n",
    "    plt.text(value, index, f'{value:.2f}', ha='left', va='center', color='black', fontsize=10)\n",
    "plt.xlabel('Medijan cijene po kvadratnom metru')\n",
    "plt.ylabel('Grad')\n",
    "plt.title('Medijan cijene po kvadratnom metru 10 najpopularnijih gradova')\n",
    "plt.tight_layout()\n",
    "plt.show()"
   ]
  },
  {
   "cell_type": "markdown",
   "id": "e0235a29-8d07-49fa-b217-390e61cb05ef",
   "metadata": {},
   "source": [
    "## 4. Broj objavljenih stanova u travnju\n",
    "\n",
    "Najprije smo pretvorili stupac s datumima u format datuma i dodali nove stupce za godinu, mjesec i dan. Zatim smo filtrirali podatke kako bismo dobili samo one koji se odnose na travanj 2024. godine. Broj objavljenih stanova za svaki dan u mjesecu prikazali smo u obliku grafa stupčastog dijagrama. Na osi X su datumi, dok su na osi Y broj objavljenih oglasa. Graf omogućuje vizualizaciju trendova u objavljivanju stanova tijekom mjeseca i identificiranje dana s najvećim brojem objavljenih oglasa."
   ]
  },
  {
   "cell_type": "code",
   "execution_count": null,
   "id": "daaf628c-55ec-4512-9f75-41b394fed58b",
   "metadata": {},
   "outputs": [],
   "source": [
    "df['Date'] = pd.to_datetime(df['Date'].str.rstrip('.'), format='%d.%m.%Y')\n",
    "\n",
    "df['Year'] = df['Date'].dt.year\n",
    "df['Month'] = df['Date'].dt.month\n",
    "df['Day'] = df['Date'].dt.day\n",
    "\n",
    "df_april = df[(df['Year'] == 2024) & (df['Month'] == 4)]\n",
    "\n",
    "listings_per_day = df_april.groupby(['Day', 'Month']).size()\n",
    "\n",
    "plt.figure(figsize=(12, 6))\n",
    "ax = listings_per_day.plot(kind='bar', color='b')\n",
    "plt.xlabel('Datum')\n",
    "plt.ylabel('Broj oglasa')\n",
    "plt.title('Broj oglasa svakog dana u travnju 2024')\n",
    "plt.xticks(rotation=45)\n",
    "\n",
    "for p in ax.patches:\n",
    "    ax.annotate(str(p.get_height()), (p.get_x() + p.get_width() / 2., p.get_height()),\n",
    "                ha='center', va='center', xytext=(0, 5), textcoords='offset points')\n",
    "\n",
    "plt.tight_layout()\n",
    "plt.show()"
   ]
  },
  {
   "cell_type": "markdown",
   "id": "e6167835-32d6-47dd-9e11-1f41631bb3c9",
   "metadata": {},
   "source": [
    "## 5. Cijena kvadratnog metra tijekom vremena\n",
    "\n",
    "Grupirali smo podatke prema godini i mjesecu kako bismo istražili trendove u cijenama kroz vrijeme. Rezultate smo vizualizirali koristeći linijski dijagram, gdje je na osi X prikazano vrijeme (godina-mjesec), a na osi Y medijan cijene po kvadratnom metru."
   ]
  },
  {
   "cell_type": "code",
   "execution_count": null,
   "id": "1d626b73-9e4f-4fb1-bc95-d3a25bf2f792",
   "metadata": {},
   "outputs": [],
   "source": [
    "year_month_counts = df.groupby(['Year', 'Month']).size()\n",
    "\n",
    "valid_year_months = year_month_counts[year_month_counts >= 100].index\n",
    "df_filtered = df[df[['Year', 'Month']].apply(tuple, axis=1).isin(valid_year_months)]\n",
    "median_price_per_sqm_year_month = df_filtered.groupby(['Year', 'Month'])['Price per sqm'].median()\n",
    "\n",
    "plt.figure(figsize=(12, 6))\n",
    "median_price_per_sqm_year_month.plot(marker='o', color='b', linestyle='-')\n",
    "plt.xlabel('Godina-mjesec')\n",
    "plt.ylabel('Medijan cijene po kvadratnom metru')\n",
    "plt.title('Medijan cijene po kvadratnom metru tijekom vremena')\n",
    "plt.xticks(rotation=45)\n",
    "plt.tight_layout()\n",
    "plt.grid(True)\n",
    "plt.show()"
   ]
  },
  {
   "cell_type": "markdown",
   "id": "e27d248c-3049-4f4f-a6b0-e5cba4906b73",
   "metadata": {},
   "source": [
    "## 6. Pristutnost stanova po sobama\n",
    "\n",
    "Odabrali smo tri najčešća tipa stana po broja soba. Ostala pojavljivanja grupirali smo pod \"Ostalo\" kako bismo dobili jasniju vizualizaciju. Rezultate smo prikazali kružnim dijagramom, gdje su prikazani udjeli svake kategorije u ukupnom broju stanova."
   ]
  },
  {
   "cell_type": "code",
   "execution_count": null,
   "id": "07aab1d8-bebb-4940-9231-0ca8b1f9c682",
   "metadata": {},
   "outputs": [],
   "source": [
    "data = df[df['Number of rooms'] != 'Unknown']\n",
    "number_of_rooms_counts = data['Number of rooms'].value_counts()\n",
    "\n",
    "top_three = number_of_rooms_counts.head(3)\n",
    "others_percentage = number_of_rooms_counts[3:].sum()\n",
    "occurrences = pd.concat([top_three, pd.Series([others_percentage], index=['Ostalo'])])\n",
    "\n",
    "plt.figure(figsize=(10, 8))\n",
    "plt.pie(occurrences, labels=occurrences.index, autopct=lambda p: '{:.1f}%'.format(p) if p >= 2 else '', startangle=120)\n",
    "plt.axis('equal')\n",
    "plt.title('Pristutnost stanova po sobama', pad=20)\n",
    "plt.show()"
   ]
  },
  {
   "cell_type": "markdown",
   "id": "875d35ee-21ab-43ab-919a-bdfaefed4beb",
   "metadata": {},
   "source": [
    "## 7. Energetska učinkovitost"
   ]
  },
  {
   "cell_type": "code",
   "execution_count": null,
   "id": "010f17bc-8205-4bba-a101-c64da1e7331b",
   "metadata": {},
   "outputs": [],
   "source": [
    "data = df[df['Energy class'] != 'Unknown']\n",
    "energy_class_counts = data['Energy class'].value_counts()\n",
    "\n",
    "top_three = energy_class_counts.head(4)\n",
    "others_percentage = energy_class_counts[4:].sum()\n",
    "occurrences = pd.concat([top_three, pd.Series([others_percentage], index=['Ostalo'])])\n",
    "\n",
    "plt.figure(figsize=(10, 8))\n",
    "plt.pie(occurrences, labels=occurrences.index, autopct=lambda p: '{:.1f}%'.format(p) if p >= 2 else '', startangle=120)\n",
    "plt.axis('equal')\n",
    "plt.title('Energetska učinkovitost', pad=20)\n",
    "plt.show()"
   ]
  },
  {
   "cell_type": "markdown",
   "id": "1672a1b7-e21a-499b-a733-0cea6b29dcda",
   "metadata": {},
   "source": [
    "## 8. Izračunavanje medijana cijene po kvadratnom metru za svaki kat\n",
    "\n",
    "Prvo smo filtrirali podatke kako bismo uklonili nevažeće ili nepoznate podatke o katovima. Zatim smo identificirali katove koji se pojavljuju u najmanje 100 oglasa kako bismo osigurali relevantnost podataka. Nakon filtriranja, grupirali smo podatke po katovima koristeći medijan cijenu za sortiranje od najskupljeg do najmanje skupog kata. Rezultate smo vizualizirali pomoću trakastog dijagrama, gdje su na osi X prikazani medijan cijene po kvadratnom metru, a na osi Y su katovi zgrada."
   ]
  },
  {
   "cell_type": "code",
   "execution_count": null,
   "id": "8122e0f1-9eab-4ce9-b960-4296d449077e",
   "metadata": {},
   "outputs": [],
   "source": [
    "df = df[df['Floor'] != 'Unknown']\n",
    "floor_counts = df['Floor'].value_counts()\n",
    "\n",
    "valid_floors = floor_counts[floor_counts >= 100].index\n",
    "df_filtered = df[df['Floor'].isin(valid_floors)]\n",
    "\n",
    "median_price_per_sqm_city = df_filtered.groupby('Floor')['Price per sqm'].median().sort_values(ascending=False)\n",
    "\n",
    "plt.figure(figsize=(14, 8))\n",
    "sns.barplot(x=median_price_per_sqm_city.values, y=median_price_per_sqm_city.index, palette='viridis')\n",
    "for index, value in enumerate(median_price_per_sqm_city.values):\n",
    "    plt.text(value, index, f'{value:.2f}', ha='left', va='center', color='black', fontsize=10)\n",
    "plt.xlabel('Medijan cijene po kvadratnom metru')\n",
    "plt.ylabel('Kat')\n",
    "plt.title('Medijan cijene po kvadratnom metru 10 najskupljih gradova')\n",
    "plt.tight_layout()\n",
    "plt.show()"
   ]
  },
  {
   "cell_type": "markdown",
   "id": "6f6ac33e-f315-48a4-9ed1-67f40f34d619",
   "metadata": {},
   "source": [
    "# Statistički pregled stanova u Splitskoj-dalmatinskoj županiji"
   ]
  },
  {
   "cell_type": "markdown",
   "id": "571b8238-217f-429e-a8e1-567c8bfe1aa2",
   "metadata": {},
   "source": [
    "## 1.Izračunavanje medijana cijene po kvadratnom metru kvartova u gradu Splitu"
   ]
  },
  {
   "cell_type": "code",
   "execution_count": null,
   "id": "4ec873f3-571e-4197-a2a2-a3c72f572ee5",
   "metadata": {},
   "outputs": [],
   "source": [
    "split_data = df[df['City'] == 'Split']\n",
    "neighborhood_counts = split_data['Neighborhood'].value_counts()\n",
    "\n",
    "valid_neighborhoods = neighborhood_counts[neighborhood_counts >= 5].index\n",
    "df_filtered = df[df['Neighborhood'].isin(valid_neighborhoods)]\n",
    "\n",
    "median_price_per_sqm_neighborhood = df_filtered.groupby('Neighborhood')['Price per sqm'].median().sort_values(ascending=False)\n",
    "\n",
    "plt.figure(figsize=(14, 8))\n",
    "sns.barplot(x=median_price_per_sqm_neighborhood.values, y=median_price_per_sqm_neighborhood.index, palette='viridis')\n",
    "for index, value in enumerate(median_price_per_sqm_neighborhood.values):\n",
    "    plt.text(value, index, f'{value:.2f}', ha='left', va='center', color='black', fontsize=10)\n",
    "plt.xlabel('Medijan cijene po kvadratnom metru')\n",
    "plt.ylabel('Kvart')\n",
    "plt.title('Medijan cijene po kvadratnom metru u svakom kvartu')\n",
    "plt.tight_layout()\n",
    "plt.show()"
   ]
  },
  {
   "cell_type": "markdown",
   "id": "be1989e5-7dec-4418-95d8-b28f511f8c9d",
   "metadata": {},
   "source": [
    "## 2. Traženje povoljnih novogradnji u gradu Splitu\n",
    "\n",
    "Provjerili smo godinu izgradnje kako bismo uklonili nevažeće ili nepotpune podatke. Zatim smo identificirali novogradnje (stanove izgrađene u rasponu od 2000. do 2025. godine). Konačno, sortirali smo podatke po cijeni po kvadratnom metru te izdvojili 10 najpovoljnijih stanova."
   ]
  },
  {
   "cell_type": "code",
   "execution_count": null,
   "id": "d861122e-acf1-4f72-a7be-e63634151d8b",
   "metadata": {},
   "outputs": [],
   "source": [
    "df_split = df[df['City'] == 'Split'].copy()\n",
    "\n",
    "df_split.loc[:, 'Year of construction'] = pd.to_numeric(df_split['Year of construction'], errors='coerce')\n",
    "df_split = df_split.dropna(subset=['Year of construction'])\n",
    "df_split = df_split[df_split['Year of construction'].between(2000, 2025)]\n",
    "df_split.loc[:, 'Year of construction'] = df_split['Year of construction'].astype(str)\n",
    "\n",
    "df_cheapest = df_split.sort_values(by='Price per sqm', ascending=True)\n",
    "\n",
    "for index, row in df_cheapest[['Url', 'Price per sqm']].head(10).iterrows():\n",
    "    print(\"URL:\", row['Url'])\n",
    "    print(\"Price per sqm:\", row['Price per sqm'])"
   ]
  }
 ],
 "metadata": {
  "kernelspec": {
   "display_name": "Python 3 (ipykernel)",
   "language": "python",
   "name": "python3"
  },
  "language_info": {
   "codemirror_mode": {
    "name": "ipython",
    "version": 3
   },
   "file_extension": ".py",
   "mimetype": "text/x-python",
   "name": "python",
   "nbconvert_exporter": "python",
   "pygments_lexer": "ipython3",
   "version": "3.11.7"
  }
 },
 "nbformat": 4,
 "nbformat_minor": 5
}
